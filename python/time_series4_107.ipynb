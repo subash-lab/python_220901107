{
  "metadata": {
    "kernelspec": {
      "name": "python",
      "display_name": "Python (Pyodide)",
      "language": "python"
    },
    "language_info": {
      "codemirror_mode": {
        "name": "python",
        "version": 3
      },
      "file_extension": ".py",
      "mimetype": "text/x-python",
      "name": "python",
      "nbconvert_exporter": "python",
      "pygments_lexer": "ipython3",
      "version": "3.8"
    }
  },
  "nbformat_minor": 4,
  "nbformat": 4,
  "cells": [
    {
      "cell_type": "code",
      "source": "import pandas as pd\nimport numpy as np\nfrom datetime import datetime\nran=pd.date_range(\"2020-08-15\",\"2020-09-01\")\nprint(\"Date range:\\n\",ran)\n",
      "metadata": {
        "trusted": true
      },
      "outputs": [
        {
          "name": "stdout",
          "text": "Date range:\n DatetimeIndex(['2020-08-15', '2020-08-16', '2020-08-17', '2020-08-18',\n               '2020-08-19', '2020-08-20', '2020-08-21', '2020-08-22',\n               '2020-08-23', '2020-08-24', '2020-08-25', '2020-08-26',\n               '2020-08-27', '2020-08-28', '2020-08-29', '2020-08-30',\n               '2020-08-31', '2020-09-01'],\n              dtype='datetime64[ns]', freq='D')\n",
          "output_type": "stream"
        }
      ],
      "execution_count": 3
    },
    {
      "cell_type": "code",
      "source": "ran=pd.date_range(\"2020-07-15\", periods=10) \nprint(\"\\nDate range with periods and default day frequency:\\n\",ran)\n",
      "metadata": {
        "trusted": true
      },
      "outputs": [
        {
          "name": "stdout",
          "text": "\nDate range with periods and default day frequency:\n DatetimeIndex(['2020-07-15', '2020-07-16', '2020-07-17', '2020-07-18',\n               '2020-07-19', '2020-07-20', '2020-07-21', '2020-07-22',\n               '2020-07-23', '2020-07-24'],\n              dtype='datetime64[ns]', freq='D')\n",
          "output_type": "stream"
        }
      ],
      "execution_count": 4
    },
    {
      "cell_type": "code",
      "source": "ran=pd.date_range(\"2020-07-15\", periods=10, freq='H')\nprint(\"\\nDate range with periods and hour frequency:\\n\",ran)",
      "metadata": {
        "trusted": true
      },
      "outputs": [
        {
          "name": "stderr",
          "text": "<ipython-input-5-5758df9c1bab>:1: FutureWarning: 'H' is deprecated and will be removed in a future version, please use 'h' instead.\n  ran=pd.date_range(\"2020-07-15\", periods=10, freq='H')\n",
          "output_type": "stream"
        },
        {
          "name": "stdout",
          "text": "\nDate range with periods and hour frequency:\n DatetimeIndex(['2020-07-15 00:00:00', '2020-07-15 01:00:00',\n               '2020-07-15 02:00:00', '2020-07-15 03:00:00',\n               '2020-07-15 04:00:00', '2020-07-15 05:00:00',\n               '2020-07-15 06:00:00', '2020-07-15 07:00:00',\n               '2020-07-15 08:00:00', '2020-07-15 09:00:00'],\n              dtype='datetime64[ns]', freq='h')\n",
          "output_type": "stream"
        }
      ],
      "execution_count": 5
    },
    {
      "cell_type": "code",
      "source": "ran=pd.period_range(\"2020-10\", periods=10, freq=\"M\") \nprint(\"\\nDate range with periods and month frequency:\\n\",ran)\n",
      "metadata": {
        "trusted": true
      },
      "outputs": [
        {
          "name": "stdout",
          "text": "\nDate range with periods and month frequency:\n PeriodIndex(['2020-10', '2020-11', '2020-12', '2021-01', '2021-02', '2021-03',\n             '2021-04', '2021-05', '2021-06', '2021-07'],\n            dtype='period[M]')\n",
          "output_type": "stream"
        }
      ],
      "execution_count": 6
    },
    {
      "cell_type": "code",
      "source": "ran=pd.timedelta_range(0, periods=8, freq=\"H\")\nprint(\"\\nZero day with hour frequency periods:\\n\",ran)",
      "metadata": {
        "trusted": true
      },
      "outputs": [
        {
          "name": "stderr",
          "text": "<ipython-input-8-e528f2e6b9e5>:1: FutureWarning: 'H' is deprecated and will be removed in a future version, please use 'h' instead.\n  ran=pd.timedelta_range(0, periods=8, freq=\"H\")\n",
          "output_type": "stream"
        },
        {
          "name": "stdout",
          "text": "\nZero day with hour frequency periods:\n TimedeltaIndex(['0 days 00:00:00', '0 days 01:00:00', '0 days 02:00:00',\n                '0 days 03:00:00', '0 days 04:00:00', '0 days 05:00:00',\n                '0 days 06:00:00', '0 days 07:00:00'],\n               dtype='timedelta64[ns]', freq='h')\n",
          "output_type": "stream"
        }
      ],
      "execution_count": 8
    },
    {
      "cell_type": "code",
      "source": "",
      "metadata": {
        "trusted": true
      },
      "outputs": [],
      "execution_count": null
    }
  ]
}