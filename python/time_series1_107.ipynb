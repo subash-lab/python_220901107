{
  "metadata": {
    "kernelspec": {
      "name": "python",
      "display_name": "Python (Pyodide)",
      "language": "python"
    },
    "language_info": {
      "codemirror_mode": {
        "name": "python",
        "version": 3
      },
      "file_extension": ".py",
      "mimetype": "text/x-python",
      "name": "python",
      "nbconvert_exporter": "python",
      "pygments_lexer": "ipython3",
      "version": "3.8"
    }
  },
  "nbformat_minor": 4,
  "nbformat": 4,
  "cells": [
    {
      "cell_type": "code",
      "source": "import datetime\na=datetime.datetime.now()\nprint(\"today-now function: \",a)",
      "metadata": {
        "trusted": true
      },
      "outputs": [
        {
          "name": "stdout",
          "text": "today-now function:  2024-10-23 23:48:06.923000\n",
          "output_type": "stream"
        }
      ],
      "execution_count": 3
    },
    {
      "cell_type": "code",
      "source": "today=datetime.datetime.today()\nprint(\"\\ntoday: \",today)",
      "metadata": {
        "trusted": true
      },
      "outputs": [
        {
          "name": "stdout",
          "text": "\ntoday:  2024-10-23 23:48:37.530000\n",
          "output_type": "stream"
        }
      ],
      "execution_count": 4
    },
    {
      "cell_type": "code",
      "source": "tomorrow=today+datetime.timedelta(days=3)\nprint(\"\\ntomorrow:\",tomorrow)",
      "metadata": {
        "trusted": true
      },
      "outputs": [
        {
          "name": "stdout",
          "text": "\ntomorrow: 2024-10-26 23:48:37.530000\n",
          "output_type": "stream"
        }
      ],
      "execution_count": 6
    },
    {
      "cell_type": "code",
      "source": "yesterday=today-datetime.timedelta(days=2)\nprint(\"\\nyesterday: \",yesterday)\n",
      "metadata": {
        "trusted": true
      },
      "outputs": [
        {
          "name": "stdout",
          "text": "\nyesterday:  2024-10-21 23:48:37.530000\n",
          "output_type": "stream"
        }
      ],
      "execution_count": 8
    },
    {
      "cell_type": "code",
      "source": "a=datetime.datetime.now()\nb=datetime.datetime(2020,6,8,23,10,25,404040)\nprint(\"\\ndate format [2020,6,8,23,10,25,404040): \",b)\n",
      "metadata": {
        "trusted": true
      },
      "outputs": [
        {
          "name": "stdout",
          "text": "\ndate format [2020,6,8,23,10,25,404040):  2020-06-08 23:10:25.404040\n",
          "output_type": "stream"
        }
      ],
      "execution_count": 9
    },
    {
      "cell_type": "code",
      "source": "from datetime import date\nd=date(2024, 12, 31) \nprint(\"\\nReplacing date\",d,d.replace(day=15))\n",
      "metadata": {
        "trusted": true
      },
      "outputs": [
        {
          "name": "stdout",
          "text": "\nReplacing date 2024-12-31 2024-12-15\n",
          "output_type": "stream"
        }
      ],
      "execution_count": 15
    },
    {
      "cell_type": "code",
      "source": "t=date(2004,4,17)\nd=date(2004,4,17).ctime() \nprint(\"\\nDay and Month:\",t,d)\n",
      "metadata": {
        "trusted": true
      },
      "outputs": [
        {
          "name": "stdout",
          "text": "\nDay and Month: 2004-04-17 Sat Apr 17 00:00:00 2004\n",
          "output_type": "stream"
        }
      ],
      "execution_count": 18
    },
    {
      "cell_type": "code",
      "source": "today=date.today()\nprint(\"\\nToday:\",today)\nprint(\"Current year:\", today.year)\nprint(\"Current month:\", today.month)\nprint(\"Current day:\",today.day)",
      "metadata": {
        "trusted": true
      },
      "outputs": [
        {
          "name": "stdout",
          "text": "\nToday: 2024-10-23\nCurrent year: 2024\nCurrent month: 10\nCurrent day: 23\n",
          "output_type": "stream"
        }
      ],
      "execution_count": 20
    },
    {
      "cell_type": "code",
      "source": "",
      "metadata": {
        "trusted": true
      },
      "outputs": [],
      "execution_count": null
    }
  ]
}