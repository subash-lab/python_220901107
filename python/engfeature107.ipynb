{
  "metadata": {
    "kernelspec": {
      "name": "python",
      "display_name": "Python (Pyodide)",
      "language": "python"
    },
    "language_info": {
      "codemirror_mode": {
        "name": "python",
        "version": 3
      },
      "file_extension": ".py",
      "mimetype": "text/x-python",
      "name": "python",
      "nbconvert_exporter": "python",
      "pygments_lexer": "ipython3",
      "version": "3.8"
    }
  },
  "nbformat_minor": 4,
  "nbformat": 4,
  "cells": [
    {
      "cell_type": "code",
      "source": "import pandas as pd \nimport numpy as np\n\ndf = pd.DataFrame({'Age': [42, 15, 67, 55, 1, 29, 75, 89, 4, 10, 15, 38, 22, 77]})\n\nprint(\"Before: \\n\")\nprint(df)\n\ndf['Label'] = pd.cut(x=df['Age'], bins=[0, 3, 17, 63, 99], labels=['Baby/Toddler', 'Child', 'Adult', 'Elderly'])\n\nprint(\"After: \\n\")\nprint(df)\n\nprint(\"Categories: \\n\")\nprint(df['Label'].value_counts())",
      "metadata": {
        "trusted": true
      },
      "outputs": [
        {
          "name": "stderr",
          "text": "<ipython-input-1-41a28d6cd179>:1: DeprecationWarning: \nPyarrow will become a required dependency of pandas in the next major release of pandas (pandas 3.0),\n(to allow more performant data types, such as the Arrow string type, and better interoperability with other libraries)\nbut was not found to be installed on your system.\nIf this would cause problems for you,\nplease provide us feedback at https://github.com/pandas-dev/pandas/issues/54466\n        \n  import pandas as pd\n",
          "output_type": "stream"
        },
        {
          "name": "stdout",
          "text": "Before: \n\n    Age\n0    42\n1    15\n2    67\n3    55\n4     1\n5    29\n6    75\n7    89\n8     4\n9    10\n10   15\n11   38\n12   22\n13   77\nAfter: \n\n    Age         Label\n0    42         Adult\n1    15         Child\n2    67       Elderly\n3    55         Adult\n4     1  Baby/Toddler\n5    29         Adult\n6    75       Elderly\n7    89       Elderly\n8     4         Child\n9    10         Child\n10   15         Child\n11   38         Adult\n12   22         Adult\n13   77       Elderly\nCategories: \n\nLabel\nAdult           5\nChild           4\nElderly         4\nBaby/Toddler    1\nName: count, dtype: int64\n",
          "output_type": "stream"
        }
      ],
      "execution_count": 1
    },
    {
      "cell_type": "code",
      "source": "",
      "metadata": {
        "trusted": true
      },
      "outputs": [],
      "execution_count": null
    }
  ]
}