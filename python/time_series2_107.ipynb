{
  "metadata": {
    "kernelspec": {
      "name": "python",
      "display_name": "Python (Pyodide)",
      "language": "python"
    },
    "language_info": {
      "codemirror_mode": {
        "name": "python",
        "version": 3
      },
      "file_extension": ".py",
      "mimetype": "text/x-python",
      "name": "python",
      "nbconvert_exporter": "python",
      "pygments_lexer": "ipython3",
      "version": "3.8"
    }
  },
  "nbformat_minor": 4,
  "nbformat": 4,
  "cells": [
    {
      "cell_type": "code",
      "source": "import datetime\ncd=datetime.datetime.now()\nprint(cd)\n",
      "metadata": {
        "trusted": true
      },
      "outputs": [
        {
          "name": "stdout",
          "text": "2024-11-01 18:12:16.624000\n",
          "output_type": "stream"
        }
      ],
      "execution_count": 1
    },
    {
      "cell_type": "code",
      "source": "res=cd.strftime(\"%y\") \nprint(\"\\nTwo-digit year:\", res)\n",
      "metadata": {
        "trusted": true
      },
      "outputs": [
        {
          "name": "stdout",
          "text": "\nTwo-digit year: 24\n",
          "output_type": "stream"
        }
      ],
      "execution_count": 2
    },
    {
      "cell_type": "code",
      "source": "res1=cd.strftime(\"%Y\") \nprint(\"\\nFour-digit year:\", res1)\n",
      "metadata": {
        "trusted": true
      },
      "outputs": [
        {
          "name": "stdout",
          "text": "\nFour-digit year: 2024\n",
          "output_type": "stream"
        }
      ],
      "execution_count": 3
    },
    {
      "cell_type": "code",
      "source": "res=cd.strftime(\"%m\") \nprint(\"\\nTwo-digit month [01, 12]:\",res)\n",
      "metadata": {
        "trusted": true
      },
      "outputs": [
        {
          "name": "stdout",
          "text": "\nTwo-digit month [01, 12]: 11\n",
          "output_type": "stream"
        }
      ],
      "execution_count": 5
    },
    {
      "cell_type": "code",
      "source": "res=cd.strftime(\"%b\")\nprint(\"\\nShort version of month\", res)\n\n",
      "metadata": {
        "trusted": true
      },
      "outputs": [
        {
          "name": "stdout",
          "text": "\nShort version of month Nov\n",
          "output_type": "stream"
        }
      ],
      "execution_count": 6
    },
    {
      "cell_type": "code",
      "source": "res=cd.strftime(\"%B\")\nprint(\"\\nFull name of month:\",res)",
      "metadata": {
        "trusted": true
      },
      "outputs": [
        {
          "name": "stdout",
          "text": "\nFull name of month: November\n",
          "output_type": "stream"
        }
      ],
      "execution_count": 7
    },
    {
      "cell_type": "code",
      "source": "res=cd.strftime(\"%j\") \nprint(\"\\nDays of the year:\", res)\n",
      "metadata": {
        "trusted": true
      },
      "outputs": [
        {
          "name": "stdout",
          "text": "\nDays of the year: 306\n",
          "output_type": "stream"
        }
      ],
      "execution_count": 9
    },
    {
      "cell_type": "code",
      "source": "res=cd.strftime(\"%D\") \nprint(\"\\nShortcut for %m/%d/%y (e.g., 04/18/12):\", res)\n",
      "metadata": {
        "trusted": true
      },
      "outputs": [
        {
          "name": "stdout",
          "text": "\nShortcut for %m/%d/%y (e.g., 04/18/12): 11/01/24\n",
          "output_type": "stream"
        }
      ],
      "execution_count": 10
    },
    {
      "cell_type": "code",
      "source": "res=cd.strftime(\"%d\") \nprint(\"\\nTwo-digit day [01, 31]:\", res)\n",
      "metadata": {
        "trusted": true
      },
      "outputs": [
        {
          "name": "stdout",
          "text": "\nTwo-digit day [01, 31]: 01\n",
          "output_type": "stream"
        }
      ],
      "execution_count": 11
    },
    {
      "cell_type": "code",
      "source": "res=cd.strftime(\"%a\")\nprint(\"\\nShort version of day\", res)\n",
      "metadata": {
        "trusted": true
      },
      "outputs": [
        {
          "name": "stdout",
          "text": "\nShort version of day Fri\n",
          "output_type": "stream"
        }
      ],
      "execution_count": 12
    },
    {
      "cell_type": "code",
      "source": "res=cd.strftime(\"A\")\nprint(\"\\nFull name of a day:\", res)",
      "metadata": {
        "trusted": true
      },
      "outputs": [
        {
          "name": "stdout",
          "text": "\nFull name of a day: A\n",
          "output_type": "stream"
        }
      ],
      "execution_count": 13
    },
    {
      "cell_type": "code",
      "source": "res=cd.strftime(\"%H\") \nprint(\"\\nHour (24-hour clock) [00, 23]:\",res)\n",
      "metadata": {
        "trusted": true
      },
      "outputs": [
        {
          "name": "stdout",
          "text": "\nHour (24-hour clock) [00, 23]: 18\n",
          "output_type": "stream"
        }
      ],
      "execution_count": 16
    },
    {
      "cell_type": "code",
      "source": "res=cd.strftime(\"%I\") \nprint(\"\\nHour (12-hour clock) [01, 12]\",res)",
      "metadata": {
        "trusted": true
      },
      "outputs": [
        {
          "name": "stdout",
          "text": "\nHour (12-hour clock) [01, 12] 06\n",
          "output_type": "stream"
        }
      ],
      "execution_count": 19
    },
    {
      "cell_type": "code",
      "source": "res=cd.strftime(\"%M\")\nprint(\"\\nTwo-digit minute [00, 59]:\", res)\n",
      "metadata": {
        "trusted": true
      },
      "outputs": [
        {
          "name": "stdout",
          "text": "\nTwo-digit minute [00, 59]: 12\n",
          "output_type": "stream"
        }
      ],
      "execution_count": 21
    },
    {
      "cell_type": "code",
      "source": "res=cd.strftime(\"%S\")\nprint(\"\\nSecond (00, 61] (seconds 60, 61 account for leap seconds):\",res)\n",
      "metadata": {
        "trusted": true
      },
      "outputs": [
        {
          "name": "stdout",
          "text": "\nSecond (00, 61] (seconds 60, 61 account for leap seconds): 16\n",
          "output_type": "stream"
        }
      ],
      "execution_count": 22
    },
    {
      "cell_type": "code",
      "source": "res=cd.strftime(\"%F\") \nprint(\"\\nShortcut for %Y-%m-%d (eg, 2012-4-18):\",res)\n\n",
      "metadata": {
        "trusted": true
      },
      "outputs": [
        {
          "name": "stdout",
          "text": "\nShortcut for %Y-%m-%d (eg, 2012-4-18): 2024-11-01\n",
          "output_type": "stream"
        }
      ],
      "execution_count": 23
    },
    {
      "cell_type": "code",
      "source": "res=cd.strftime(\"%f\") \nprint(\"\\nMicrosecond as an integer, zero-padded (from 000000 to 999999);\", res)\n\n",
      "metadata": {
        "trusted": true
      },
      "outputs": [
        {
          "name": "stdout",
          "text": "\nMicrosecond as an integer, zero-padded (from 000000 to 999999); 624000\n",
          "output_type": "stream"
        }
      ],
      "execution_count": 24
    },
    {
      "cell_type": "code",
      "source": "res=cd.strftime(\"%p\")\nprint(\"\\nLocale equivalent of AM or PM:\", res)\n",
      "metadata": {
        "trusted": true
      },
      "outputs": [
        {
          "name": "stdout",
          "text": "\nLocale equivalent of AM or PM: PM\n",
          "output_type": "stream"
        }
      ],
      "execution_count": 25
    },
    {
      "cell_type": "code",
      "source": "res=cd.strftime(\"%x\")\nprint(\"\\nLocale-appropriate formatted date (eg, in the United States, May 1, 2012 yields '05/01/2012)\", res)\n",
      "metadata": {
        "trusted": true
      },
      "outputs": [
        {
          "name": "stdout",
          "text": "\nLocale-appropriate formatted date (eg, in the United States, May 1, 2012 yields '05/01/2012) 11/01/24\n",
          "output_type": "stream"
        }
      ],
      "execution_count": 26
    },
    {
      "cell_type": "code",
      "source": "res=cd.strftime(\"%X\")\nprint(\"\\nLocale-appropriate time (e.g., '04:24:12 PM'):\",res)",
      "metadata": {
        "trusted": true
      },
      "outputs": [
        {
          "name": "stdout",
          "text": "\nLocale-appropriate time (e.g., '04:24:12 PM'): 18:12:16\n",
          "output_type": "stream"
        }
      ],
      "execution_count": 29
    },
    {
      "cell_type": "code",
      "source": "",
      "metadata": {
        "trusted": true
      },
      "outputs": [],
      "execution_count": null
    }
  ]
}